{
  "nbformat": 4,
  "nbformat_minor": 0,
  "metadata": {
    "colab": {
      "name": "FinalStreamCode",
      "provenance": [],
      "mount_file_id": "135kCyefEac_zTrXA_fldNahfWxufcM8l",
      "authorship_tag": "ABX9TyOBKcMGcojuqxcmTuYg687U",
      "include_colab_link": true
    },
    "kernelspec": {
      "name": "python3",
      "display_name": "Python 3"
    }
  },
  "cells": [
    {
      "cell_type": "markdown",
      "metadata": {
        "id": "view-in-github",
        "colab_type": "text"
      },
      "source": [
        "<a href=\"https://colab.research.google.com/github/GustaKir/Google-Drive-Stream-Downloader/blob/main/FinalStreamCode.ipynb\" target=\"_parent\"><img src=\"https://colab.research.google.com/assets/colab-badge.svg\" alt=\"Open In Colab\"/></a>"
      ]
    },
    {
      "cell_type": "markdown",
      "metadata": {
        "id": "uTFRseSqUx1D"
      },
      "source": [
        "# Stream Auto Downloader\n",
        "\n",
        "---\n",
        "\n",
        "**How to install?**\n",
        "\n",
        "*   Click on  Tools > Command Pallete (or type Ctrl+Shift+P)\n",
        "*   Type \"Mount Drive\" on the text field and click\n",
        "*   Connect to whatever Google Drive account you want to use\n",
        "*   Execute this next code to install the Downloader into your Google Drive root folder **EXECUTE THIS ONLY ONE TIME**\n"
      ]
    },
    {
      "cell_type": "code",
      "metadata": {
        "id": "7-boMQ1fYDeL"
      },
      "source": [
        "import os\n",
        "os.chdir(\"drive/MyDrive\")\n",
        "!mkdir StreamDownloader\n",
        "!git clone https://gitlab.com/colethedj/stream_auto_archiver.git StreamDownloader/Downloader\n",
        "!apt-get install python3.7\n",
        "!apt-get install python3-pip\n",
        "!python3.7 -m pip install StreamDownloader/Downloader/"
      ],
      "execution_count": null,
      "outputs": []
    },
    {
      "cell_type": "markdown",
      "metadata": {
        "id": "ul5pzoDXbzNW"
      },
      "source": [
        "**How to select streamers?**\n",
        "\n",
        "*   After installing go into StreamDownloader > Downloader > Config\n",
        "*   Open streamers.yml\n",
        "*   Add your youtube/twitch streamers following the example provided\n",
        "*   Make sure the download_directory is \"StreamDownloader/Foldername/Streamer\"\n",
        "*   remove the rclone lines to avoid errors\n",
        "\n",
        "Example:\n",
        "\n",
        "```\n",
        "streamers:\n",
        "  YourStreamerName:\n",
        "    url: \"https://www.website.com/streamer\"\n",
        "    name: \"YourStreamerName\"\n",
        "    download_directory: \"StreamDownloader/website/Streamer\"\n",
        "    split_time: 1800\n",
        "\n",
        "    #change split_time to whatever value you like\n",
        "\n",
        "```\n",
        "\n",
        "* For any questions or help adding streamers go to [Stream Auto Archiver](https://gitlab.com/colethedj/stream_auto_archiver) or [StreamLink](https://streamlink.github.io/)\n",
        "\n",
        "\n"
      ]
    },
    {
      "cell_type": "markdown",
      "metadata": {
        "id": "Y7OexGUNes24"
      },
      "source": [
        "**How to start the Auto Downloader?**\n",
        "\n",
        "*   After installing the program and adding your favorite streamers just execute this next code\n",
        "*  Make sure the Driver is mounter and the Root Folder is set"
      ]
    },
    {
      "cell_type": "code",
      "metadata": {
        "id": "9OwsbRXVjIaw"
      },
      "source": [
        "#@title Execute this only if you need to set the root folder again\n",
        "import os\n",
        "os.chdir(\"drive/MyDrive\")"
      ],
      "execution_count": null,
      "outputs": []
    },
    {
      "cell_type": "code",
      "metadata": {
        "id": "J8tGjU6kemoZ"
      },
      "source": [
        "!saa --config-file ./StreamDownloader/Downloader/config/config.yml --streamers-file ./StreamDownloader/Downloader/config/streamers.yml"
      ],
      "execution_count": null,
      "outputs": []
    }
  ]
}